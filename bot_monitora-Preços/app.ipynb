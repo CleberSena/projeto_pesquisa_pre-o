{
 "cells": [
  {
   "cell_type": "markdown",
   "metadata": {},
   "source": [
    "# DestravaDev #3\n",
    "## Robô de Monitoramento Diário de Preço\n",
    "###  Foco do projeto: Automação de Processos\n",
    "###  Nível do projeto: Intermediário\n",
    "#### Breve descrição do projeto:\n",
    " Crie um script em Python que automatize a consulta de preços de um único produto(ex: iphone\n",
    " 15 pro max,você escolhe o produto) em algum site da sua escolha(você pode escolher\n",
    " qualquer site mesmo) e atualize uma planilha Excel com os preços coletados de 30 em 30\n",
    " minutos"
   ]
  },
  {
   "cell_type": "code",
   "execution_count": null,
   "metadata": {},
   "outputs": [],
   "source": [
    "from codigo_base import*\n",
    "import datetime\n",
    "\n",
    "while True:\n",
    "    inicializacao_do_bot()\n",
    "\n",
    "    data = datetime.datetime.now()\n",
    "    data = data.strftime(\"%d/%m/%Y\")\n",
    "\n",
    "    driver = iniciarDriver()\n",
    "    driver.get(\"https://www.apple.com/br/shop/buy-iphone\")\n",
    "    sl(5)\n",
    "\n",
    "    produto = driver.find_elements(By.XPATH,'//h3[@class=\"rf-hcard-content-title\"]')\n",
    "    produto = produto[0].text\n",
    "    sl(3)\n",
    "    preco_produto = driver.find_element(By.XPATH,'//div//span[text()=\" R$ 9.299\"]')\n",
    "    preco_produto = preco_produto.text.replace('R$','' )\n",
    "    preco_produto = int(preco_produto.replace('.', ''))\n",
    "    sl(2)\n",
    "    criarPlanilha(produto, data, preco_produto, \"https://www.apple.com/br/shop/buy-iphone\")\n",
    "    driver.close()\n",
    "\n",
    "    intervalo() "
   ]
  }
 ],
 "metadata": {
  "kernelspec": {
   "display_name": "Python 3",
   "language": "python",
   "name": "python3"
  },
  "language_info": {
   "codemirror_mode": {
    "name": "ipython",
    "version": 3
   },
   "file_extension": ".py",
   "mimetype": "text/x-python",
   "name": "python",
   "nbconvert_exporter": "python",
   "pygments_lexer": "ipython3",
   "version": "3.12.0"
  }
 },
 "nbformat": 4,
 "nbformat_minor": 2
}
